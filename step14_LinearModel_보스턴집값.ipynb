{
 "cells": [
  {
   "cell_type": "markdown",
   "metadata": {},
   "source": [
    "## LinearRegression을 이용한 보스턴 주택 가격 예측\n",
    "\n",
    "<hr>\n",
    "\n",
    "1. CRIM : 지역별 범죄발생\n",
    "2. ZN : 25,000평방피트를 초과하는 거주 지역의 비율\n",
    "3. INDUS : 비상업적 지역 넓이 비율\n",
    "4. CHAS :찰스강에 대한더미 변수(강의 경계에 위치한 경우는 1, 아니면 0)\n",
    "5. NOX : 일산화질소 농도\n",
    "6. RM : 거주할 수 있는 방 개수\n",
    "7. AGE : 1940년 이전에 건축된 소유 주택의 비율\n",
    "8. DIS : 5개 주요 고용센터까지의 가중 거리\n",
    "9. RAD : 고속도로 접근 용이도\n",
    "10.TAX : 10,000 달러당 재사세율\n",
    "11. PTRATIO : 지역의 교사와 학생 수 비율\n",
    "12. B : 지역의 흑인 거주 비율\n",
    "13. LSTAT : 하위 계층의 비율\n",
    "14. PRICE : 가격"
   ]
  },
  {
   "cell_type": "code",
   "execution_count": 1,
   "metadata": {},
   "outputs": [],
   "source": [
    "from sklearn.model_selection import train_test_split\n",
    "from sklearn.linear_model import LinearRegression\n",
    "from sklearn.metrics import mean_squared_error"
   ]
  },
  {
   "cell_type": "code",
   "execution_count": null,
   "metadata": {},
   "outputs": [],
   "source": []
  }
 ],
 "metadata": {
  "kernelspec": {
   "display_name": "Python 3",
   "language": "python",
   "name": "python3"
  },
  "language_info": {
   "codemirror_mode": {
    "name": "ipython",
    "version": 3
   },
   "file_extension": ".py",
   "mimetype": "text/x-python",
   "name": "python",
   "nbconvert_exporter": "python",
   "pygments_lexer": "ipython3",
   "version": "3.8.5"
  }
 },
 "nbformat": 4,
 "nbformat_minor": 4
}
