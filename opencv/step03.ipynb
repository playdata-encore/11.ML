{
 "cells": [
  {
   "cell_type": "code",
   "execution_count": 3,
   "metadata": {},
   "outputs": [],
   "source": [
    "import cv2\n",
    "import matplotlib.pyplot as plt \n",
    "import sys\n",
    "import glob \n",
    "\n",
    "# 시스템 카메라 구동 코드\n",
    "cap = cv2.VideoCapture(0)\n",
    "if cap.isOpened() == False:\n",
    "    print(\"카메라 사용 불가\")\n",
    "    sys.exit()\n",
    "while(True):\n",
    "    ret, img_frame = cap.read()\n",
    "    if ret == False:\n",
    "        print(\"캡처 실패\")\n",
    "        break\n",
    "    cv2.imshow('Color', img_frame)\n",
    "    key = cv2.waitKey(1)\n",
    "    if key == 27:\n",
    "        break\n",
    "        \n",
    "# 카메라 자원 시스템에 반환\n",
    "cap.release()\n",
    "# 실행창 종료\n",
    "cv2.destroyAllWindows()"
   ]
  },
  {
   "cell_type": "code",
   "execution_count": 1,
   "metadata": {},
   "outputs": [],
   "source": [
    "import cv2\n",
    "import matplotlib.pyplot as plt \n",
    "import sys\n",
    "import glob \n",
    "src = cv2.imread('imglist/airplane.bmp', cv2.IMREAD_COLOR)\n",
    "mask = cv2.imread('imglist/mask_plane.bmp', cv2.IMREAD_GRAYSCALE)\n",
    "dst = cv2.imread('imglist/field.bmp', cv2.IMREAD_COLOR)\n",
    "# cv2.imshow('src', src)\n",
    "# cv2.imshow('mask', mask)\n",
    "# src와 dst의 색체계는 동일해야 하는 rule\n",
    "cv2.copyTo(src, mask, dst)\n",
    "cv2.imshow('dst', dst)\n",
    "cv2.waitKey()\n",
    "cv2.destroyAllWindows()"
   ]
  },
  {
   "cell_type": "code",
   "execution_count": 2,
   "metadata": {},
   "outputs": [
    {
     "name": "stdout",
     "output_type": "stream",
     "text": [
      "------- 컬러 영상 : RGB 고려 ----------\n"
     ]
    }
   ],
   "source": [
    "import numpy as np\n",
    "import cv2\n",
    "src = cv2.imread('imglist/cat.jpg', cv2.IMREAD_GRAYSCALE)\n",
    "if src is None:\n",
    "    print('imgage 로딩 실패')\n",
    "    sys.exit()\n",
    "src = cv2.resize(src, (300, 300))\n",
    "dst = cv2.add(src, 100)\n",
    "cv2.imshow('src', src)\n",
    "cv2.imshow('dst', dst)\n",
    "print('------- 컬러 영상 : RGB 고려 ----------')\n",
    "src = cv2.imread('imglist/cat.jpg')\n",
    "src = cv2.resize(src, (300, 300))\n",
    "# BGR에 100씩 add, 밝기 조절\n",
    "# add( , (4개의 값으로 구성된 튜플))\n",
    "# dst = cv2.add(src, (100, 100, 100, 0))\n",
    "# clip으로 연산시 실수로 해야 정상 연산 후 부호정수 타입으로 변환해서 화면 출력\n",
    "dst = np.clip(src+100., 0, 255).astype(np.uint8)\n",
    "cv2.imshow('src', src)\n",
    "cv2.imshow('dst', dst)\n",
    "cv2.waitKey()\n",
    "cv2.destroyAllWindows()"
   ]
  },
  {
   "cell_type": "code",
   "execution_count": null,
   "metadata": {},
   "outputs": [],
   "source": []
  }
 ],
 "metadata": {
  "kernelspec": {
   "display_name": "Python 3",
   "language": "python",
   "name": "python3"
  },
  "language_info": {
   "codemirror_mode": {
    "name": "ipython",
    "version": 3
   },
   "file_extension": ".py",
   "mimetype": "text/x-python",
   "name": "python",
   "nbconvert_exporter": "python",
   "pygments_lexer": "ipython3",
   "version": "3.8.5"
  }
 },
 "nbformat": 4,
 "nbformat_minor": 4
}
