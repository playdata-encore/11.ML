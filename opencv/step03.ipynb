{
 "cells": [
  {
   "cell_type": "code",
   "execution_count": 3,
   "metadata": {},
   "outputs": [],
   "source": [
    "import cv2\n",
    "import matplotlib.pyplot as plt \n",
    "import sys\n",
    "import glob \n",
    "cap = cv2.VideoCapture(0)\n",
    "if cap.isOpened() == False:\n",
    "    print(\"카메라 사용 불가\")\n",
    "    sys.exit()\n",
    "while(True):\n",
    "    ret, img_frame = cap.read()\n",
    "    if ret == False:\n",
    "        print(\"캡처 실패\")\n",
    "        break\n",
    "    cv2.imshow('Color', img_frame)\n",
    "    key = cv2.waitKey(1)\n",
    "    if key == 27:\n",
    "        break\n",
    "cap.release()\n",
    "cv2.destroyAllWindows()"
   ]
  },
  {
   "cell_type": "code",
   "execution_count": 1,
   "metadata": {},
   "outputs": [],
   "source": [
    "import cv2\n",
    "import matplotlib.pyplot as plt \n",
    "import sys\n",
    "import glob \n",
    "src = cv2.imread('imglist/airplane.bmp', cv2.IMREAD_COLOR)\n",
    "mask = cv2.imread('imglist/mask_plane.bmp', cv2.IMREAD_GRAYSCALE)\n",
    "dst = cv2.imread('imglist/field.bmp', cv2.IMREAD_COLOR)\n",
    "# cv2.imshow('src', src)\n",
    "# cv2.imshow('mask', mask)\n",
    "# src와 dst의 색체계는 동일해야 하는 rule\n",
    "cv2.copyTo(src, mask, dst)\n",
    "cv2.imshow('dst', dst)\n",
    "cv2.waitKey()\n",
    "cv2.destroyAllWindows()"
   ]
  },
  {
   "cell_type": "code",
   "execution_count": null,
   "metadata": {},
   "outputs": [],
   "source": []
  },
  {
   "cell_type": "code",
   "execution_count": null,
   "metadata": {},
   "outputs": [],
   "source": []
  }
 ],
 "metadata": {
  "kernelspec": {
   "display_name": "Python 3",
   "language": "python",
   "name": "python3"
  },
  "language_info": {
   "codemirror_mode": {
    "name": "ipython",
    "version": 3
   },
   "file_extension": ".py",
   "mimetype": "text/x-python",
   "name": "python",
   "nbconvert_exporter": "python",
   "pygments_lexer": "ipython3",
   "version": "3.8.5"
  }
 },
 "nbformat": 4,
 "nbformat_minor": 4
}
